{
 "cells": [
  {
   "cell_type": "code",
   "execution_count": 1,
   "id": "71882666",
   "metadata": {},
   "outputs": [],
   "source": [
    "#!pip install git+https://github.com/pmc93/aarhusInv.git --force-reinstall\n",
    "\n",
    "\n",
    "import numpy as np\n",
    "import os\n",
    "import matplotlib.pyplot as plt\n",
    "\n"
   ]
  },
  {
   "cell_type": "code",
   "execution_count": 2,
   "id": "93817c3a",
   "metadata": {},
   "outputs": [
    {
     "name": "stderr",
     "output_type": "stream",
     "text": [
      "C:\\Users\\au701230\\WPy64-31090\\python-3.10.9.amd64\\lib\\site-packages\\pandas\\core\\arrays\\masked.py:60: UserWarning: Pandas requires version '1.3.6' or newer of 'bottleneck' (version '1.3.4' currently installed).\n",
      "  from pandas.core import (\n"
     ]
    }
   ],
   "source": [
    "import aarhusInv "
   ]
  },
  {
   "cell_type": "code",
   "execution_count": 3,
   "id": "147d99d8",
   "metadata": {},
   "outputs": [
    {
     "name": "stdout",
     "output_type": "stream",
     "text": [
      "Depths need to be ascending, model will be skipped.\n",
      "Number of depths should be 1 less than rhos, model will be skipped.\n"
     ]
    }
   ],
   "source": [
    "inv_dir = r'C:\\Users\\au701230\\OneDrive - Aarhus Universitet\\Desktop\\pyTEM\\inv_dir'\n",
    "\n",
    "\n",
    "A = aarhusInv.Model(inv_dir)\n",
    "\n",
    "# tidy directory\n",
    "for fwr_file in A.getFileList(path=inv_dir, extension='Fwr'):\n",
    "    \n",
    "    os.remove(fwr_file)\n",
    "\n",
    "\n",
    "A = aarhusInv.Model(inv_dir)\n",
    "\n",
    "A.createModel(rhos = [500000., 50000000., 50000000.], depths = [1., 20.])\n",
    "A.createModel(rhos = [50., 10., 20.,], depths = [1., 10.])\n",
    "A.createModel(rhos = [50., 10.,], depths = [1.])\n",
    "A.createModel(rhos = [150., 10., 200.,], depths = [100., 20.])\n",
    "A.createModel(rhos = [50., 110., 20.,], depths = [1., 30., 20.])\n",
    "A.createModel(rhos = [500., 10., 20.,], depths = [1., 3.])\n",
    "\n",
    "A.models  = [A.models] * 10 #check max number of models, works up to 36,000  capabilities\n",
    "\n",
    "A.models = [item for sublist in A.models for item in sublist] #flatten list"
   ]
  },
  {
   "cell_type": "code",
   "execution_count": 4,
   "id": "bd6a49f7",
   "metadata": {},
   "outputs": [
    {
     "name": "stdout",
     "output_type": "stream",
     "text": [
      "my_mod.mod has been created.\n"
     ]
    }
   ],
   "source": [
    "tem_file = '20240306_station1.tem'\n",
    "A.writeModFile(tem_file=tem_file, analysis=True)"
   ]
  },
  {
   "cell_type": "code",
   "execution_count": 5,
   "id": "ae78f5e9",
   "metadata": {},
   "outputs": [
    {
     "name": "stdout",
     "output_type": "stream",
     "text": [
      "AarhusInv - Started\n",
      "AarhusInv - Done\n",
      "Elapsed time is 6.93 seconds.\n"
     ]
    }
   ],
   "source": [
    "A.runInv()"
   ]
  },
  {
   "cell_type": "code",
   "execution_count": 6,
   "id": "afb43190",
   "metadata": {},
   "outputs": [
    {
     "name": "stdout",
     "output_type": "stream",
     "text": [
      "40\n"
     ]
    }
   ],
   "source": [
    "fwr_list = A.getFileList(path=inv_dir, extension='.fwr')\n",
    "print(len(fwr_list))\n",
    "\n",
    "n_gates = 20\n",
    "data_matrix = np.ones((len(fwr_list), n_gates)).T\n",
    "\n",
    "for i, fwr_file in enumerate(fwr_list):\n",
    "    data_matrix[:,i] = A.readFWR(fwr_file, n_header_lines=17).values[:,1]    "
   ]
  },
  {
   "cell_type": "code",
   "execution_count": 7,
   "id": "b72029c8",
   "metadata": {},
   "outputs": [
    {
     "name": "stderr",
     "output_type": "stream",
     "text": [
      "C:\\Users\\au701230\\AppData\\Local\\Temp\\ipykernel_15548\\1416329511.py:3: RuntimeWarning: invalid value encountered in log10\n",
      "  im = ax.imshow(np.log10(data_matrix))\n"
     ]
    },
    {
     "data": {
      "text/plain": [
       "Text(0, 0.5, 'Gate Index')"
      ]
     },
     "execution_count": 7,
     "metadata": {},
     "output_type": "execute_result"
    },
    {
     "data": {
      "image/png": "[encoded data removed]",
      "text/plain": [
       "<Figure size 640x480 with 2 Axes>"
      ]
     },
     "metadata": {},
     "output_type": "display_data"
    }
   ],
   "source": [
    "fig, ax = plt.subplots(1,1)\n",
    "\n",
    "im = ax.imshow(np.log10(data_matrix))\n",
    "\n",
    "plt.colorbar(im, orientation='horizontal').set_label('dBdt [log$_{10}$(V/m$^2$)]')\n",
    "\n",
    "ax.set_xlabel('Model Index')\n",
    "ax.set_ylabel('Gate Index')"
   ]
  },
  {
   "cell_type": "code",
   "execution_count": null,
   "id": "2b1b95ed",
   "metadata": {},
   "outputs": [],
   "source": []
  }
 ],
 "metadata": {
  "kernelspec": {
   "display_name": "Python 3 (ipykernel)",
   "language": "python",
   "name": "python3"
  },
  "language_info": {
   "codemirror_mode": {
    "name": "ipython",
    "version": 3
   },
   "file_extension": ".py",
   "mimetype": "text/x-python",
   "name": "python",
   "nbconvert_exporter": "python",
   "pygments_lexer": "ipython3",
   "version": "3.10.9"
  }
 },
 "nbformat": 4,
 "nbformat_minor": 5
}
